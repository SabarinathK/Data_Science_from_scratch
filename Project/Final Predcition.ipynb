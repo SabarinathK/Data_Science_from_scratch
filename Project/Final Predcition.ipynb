{
 "cells": [
  {
   "cell_type": "code",
   "execution_count": 16,
   "id": "e03c82a4",
   "metadata": {},
   "outputs": [],
   "source": [
    "import joblib as jb\n",
    "Feature_selection =jb.load('files/train/model/featureselected_model.pkl')\n",
    "encode_model =jb.load('files/train/model/train_encode_model.pkl')\n",
    "model=jb.load('files/train/model/lor.pkl')\n",
    "\n",
    "import pandas as pd\n",
    "from sklearn.metrics import classification_report,confusion_matrix,ConfusionMatrixDisplay"
   ]
  },
  {
   "cell_type": "code",
   "execution_count": 41,
   "id": "d9d41b3d",
   "metadata": {},
   "outputs": [],
   "source": [
    "def flow (X_path,y_path):\n",
    "    #read\n",
    "    X_test=pd.read_csv(X_path)\n",
    "    y_test=pd.read_csv(y_path)\n",
    "    y_test=y_test.replace({'e':'edible','p':'Poision'})\n",
    "    \n",
    "    # encode\n",
    "    encode_data=encode_model.transform(X_test)\n",
    "    encode_data=pd.DataFrame(encode_data, columns=X_test.columns)\n",
    "    \n",
    "    # Feature_selection\n",
    "    featuer_selected=encode_data[Feature_selection]\n",
    "\n",
    "    # predcit\n",
    "    y_pred=pd.DataFrame(model.predict(featuer_selected))  \n",
    "    y_pred=y_pred.replace({1:'edible',0:'Poision'})\n",
    "    \n",
    "    #metrics\n",
    "    report=classification_report(y_pred,y_test)\n",
    "    cm=confusion_matrix(y_pred,y_test)\n",
    "    disp = ConfusionMatrixDisplay(confusion_matrix=cm)\n",
    "    \n",
    "    return y_pred,report,disp"
   ]
  },
  {
   "cell_type": "code",
   "execution_count": 42,
   "id": "e93f8ec7",
   "metadata": {},
   "outputs": [],
   "source": [
    "y_pred,report,disp=flow('test data/raw/test.csv','test data/y.csv')"
   ]
  },
  {
   "cell_type": "code",
   "execution_count": 43,
   "id": "a48e5db6",
   "metadata": {},
   "outputs": [
    {
     "data": {
      "text/html": [
       "<div>\n",
       "<style scoped>\n",
       "    .dataframe tbody tr th:only-of-type {\n",
       "        vertical-align: middle;\n",
       "    }\n",
       "\n",
       "    .dataframe tbody tr th {\n",
       "        vertical-align: top;\n",
       "    }\n",
       "\n",
       "    .dataframe thead th {\n",
       "        text-align: right;\n",
       "    }\n",
       "</style>\n",
       "<table border=\"1\" class=\"dataframe\">\n",
       "  <thead>\n",
       "    <tr style=\"text-align: right;\">\n",
       "      <th></th>\n",
       "      <th>0</th>\n",
       "    </tr>\n",
       "  </thead>\n",
       "  <tbody>\n",
       "    <tr>\n",
       "      <th>0</th>\n",
       "      <td>edible</td>\n",
       "    </tr>\n",
       "    <tr>\n",
       "      <th>1</th>\n",
       "      <td>edible</td>\n",
       "    </tr>\n",
       "    <tr>\n",
       "      <th>2</th>\n",
       "      <td>edible</td>\n",
       "    </tr>\n",
       "    <tr>\n",
       "      <th>3</th>\n",
       "      <td>Poision</td>\n",
       "    </tr>\n",
       "    <tr>\n",
       "      <th>4</th>\n",
       "      <td>edible</td>\n",
       "    </tr>\n",
       "    <tr>\n",
       "      <th>...</th>\n",
       "      <td>...</td>\n",
       "    </tr>\n",
       "    <tr>\n",
       "      <th>2433</th>\n",
       "      <td>edible</td>\n",
       "    </tr>\n",
       "    <tr>\n",
       "      <th>2434</th>\n",
       "      <td>Poision</td>\n",
       "    </tr>\n",
       "    <tr>\n",
       "      <th>2435</th>\n",
       "      <td>edible</td>\n",
       "    </tr>\n",
       "    <tr>\n",
       "      <th>2436</th>\n",
       "      <td>Poision</td>\n",
       "    </tr>\n",
       "    <tr>\n",
       "      <th>2437</th>\n",
       "      <td>Poision</td>\n",
       "    </tr>\n",
       "  </tbody>\n",
       "</table>\n",
       "<p>2438 rows × 1 columns</p>\n",
       "</div>"
      ],
      "text/plain": [
       "            0\n",
       "0      edible\n",
       "1      edible\n",
       "2      edible\n",
       "3     Poision\n",
       "4      edible\n",
       "...       ...\n",
       "2433   edible\n",
       "2434  Poision\n",
       "2435   edible\n",
       "2436  Poision\n",
       "2437  Poision\n",
       "\n",
       "[2438 rows x 1 columns]"
      ]
     },
     "execution_count": 43,
     "metadata": {},
     "output_type": "execute_result"
    }
   ],
   "source": [
    "y_pred"
   ]
  },
  {
   "cell_type": "code",
   "execution_count": 44,
   "id": "cf5eaf5a",
   "metadata": {},
   "outputs": [
    {
     "name": "stdout",
     "output_type": "stream",
     "text": [
      "              precision    recall  f1-score   support\n",
      "\n",
      "     Poision       0.91      0.94      0.92      1131\n",
      "      edible       0.94      0.92      0.93      1307\n",
      "\n",
      "    accuracy                           0.93      2438\n",
      "   macro avg       0.93      0.93      0.93      2438\n",
      "weighted avg       0.93      0.93      0.93      2438\n",
      "\n"
     ]
    }
   ],
   "source": [
    "print(report)"
   ]
  },
  {
   "cell_type": "code",
   "execution_count": 45,
   "id": "12e8ed6b",
   "metadata": {},
   "outputs": [
    {
     "data": {
      "text/plain": [
       "<sklearn.metrics._plot.confusion_matrix.ConfusionMatrixDisplay at 0x1ffe74238e0>"
      ]
     },
     "execution_count": 45,
     "metadata": {},
     "output_type": "execute_result"
    },
    {
     "data": {
      "image/png": "[encoded data removed]",
      "text/plain": [
       "<Figure size 640x480 with 2 Axes>"
      ]
     },
     "metadata": {},
     "output_type": "display_data"
    }
   ],
   "source": [
    "disp.plot()"
   ]
  },
  {
   "cell_type": "code",
   "execution_count": null,
   "id": "edab2bb9",
   "metadata": {},
   "outputs": [],
   "source": []
  }
 ],
 "metadata": {
  "kernelspec": {
   "display_name": "Python 3 (ipykernel)",
   "language": "python",
   "name": "python3"
  },
  "language_info": {
   "codemirror_mode": {
    "name": "ipython",
    "version": 3
   },
   "file_extension": ".py",
   "mimetype": "text/x-python",
   "name": "python",
   "nbconvert_exporter": "python",
   "pygments_lexer": "ipython3",
   "version": "3.10.7"
  }
 },
 "nbformat": 4,
 "nbformat_minor": 5
}
